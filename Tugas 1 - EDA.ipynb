{
 "cells": [
  {
   "cell_type": "markdown",
   "metadata": {},
   "source": [
    "# **TUGAS ANALISIS BIG DATA**"
   ]
  },
  {
   "cell_type": "markdown",
   "metadata": {},
   "source": [
    "# **EDA (Exploratory Data Analysis)**"
   ]
  },
  {
   "cell_type": "code",
   "execution_count": 138,
   "metadata": {},
   "outputs": [],
   "source": [
    "#Importing Library\n",
    "import pandas as pd\n",
    "import numpy as np\n",
    "from sklearn import metrics\n",
    "import matplotlib.pyplot as plt\n",
    "from sklearn.model_selection import train_test_split\n",
    "from sklearn.preprocessing import StandardScaler, LabelEncoder\n",
    "from sklearn.metrics import classification_report, accuracy_score\n",
    "import seaborn as sns\n",
    "import missingno as msno"
   ]
  },
  {
   "cell_type": "code",
   "execution_count": 139,
   "metadata": {},
   "outputs": [],
   "source": [
    "#Laod Data\n",
    "assessments = pd.read_csv(\"dataset/assessments.csv\")\n",
    "courses = pd.read_csv(\"dataset/courses.csv\")\n",
    "studentAssessment = pd.read_csv(\"dataset/studentAssessment.csv\")\n",
    "studentInfo = pd.read_csv(\"dataset/studentInfo.csv\")\n",
    "studentRegistration = pd.read_csv(\"dataset/studentRegistration.csv\")\n",
    "studentVle = pd.read_csv(\"dataset/studentVle.csv\")\n",
    "vle = pd.read_csv(\"dataset/vle.csv\")"
   ]
  },
  {
   "cell_type": "markdown",
   "metadata": {},
   "source": [
    "**ASSESMENTS**"
   ]
  },
  {
   "cell_type": "code",
   "execution_count": 140,
   "metadata": {},
   "outputs": [
    {
     "data": {
      "text/html": [
       "<div>\n",
       "<style scoped>\n",
       "    .dataframe tbody tr th:only-of-type {\n",
       "        vertical-align: middle;\n",
       "    }\n",
       "\n",
       "    .dataframe tbody tr th {\n",
       "        vertical-align: top;\n",
       "    }\n",
       "\n",
       "    .dataframe thead th {\n",
       "        text-align: right;\n",
       "    }\n",
       "</style>\n",
       "<table border=\"1\" class=\"dataframe\">\n",
       "  <thead>\n",
       "    <tr style=\"text-align: right;\">\n",
       "      <th></th>\n",
       "      <th>code_module</th>\n",
       "      <th>code_presentation</th>\n",
       "      <th>id_assessment</th>\n",
       "      <th>assessment_type</th>\n",
       "      <th>date</th>\n",
       "      <th>weight</th>\n",
       "    </tr>\n",
       "  </thead>\n",
       "  <tbody>\n",
       "    <tr>\n",
       "      <th>0</th>\n",
       "      <td>AAA</td>\n",
       "      <td>2013J</td>\n",
       "      <td>1752</td>\n",
       "      <td>TMA</td>\n",
       "      <td>19.0</td>\n",
       "      <td>10.0</td>\n",
       "    </tr>\n",
       "    <tr>\n",
       "      <th>1</th>\n",
       "      <td>AAA</td>\n",
       "      <td>2013J</td>\n",
       "      <td>1753</td>\n",
       "      <td>TMA</td>\n",
       "      <td>54.0</td>\n",
       "      <td>20.0</td>\n",
       "    </tr>\n",
       "    <tr>\n",
       "      <th>2</th>\n",
       "      <td>AAA</td>\n",
       "      <td>2013J</td>\n",
       "      <td>1754</td>\n",
       "      <td>TMA</td>\n",
       "      <td>117.0</td>\n",
       "      <td>20.0</td>\n",
       "    </tr>\n",
       "    <tr>\n",
       "      <th>3</th>\n",
       "      <td>AAA</td>\n",
       "      <td>2013J</td>\n",
       "      <td>1755</td>\n",
       "      <td>TMA</td>\n",
       "      <td>166.0</td>\n",
       "      <td>20.0</td>\n",
       "    </tr>\n",
       "    <tr>\n",
       "      <th>4</th>\n",
       "      <td>AAA</td>\n",
       "      <td>2013J</td>\n",
       "      <td>1756</td>\n",
       "      <td>TMA</td>\n",
       "      <td>215.0</td>\n",
       "      <td>30.0</td>\n",
       "    </tr>\n",
       "  </tbody>\n",
       "</table>\n",
       "</div>"
      ],
      "text/plain": [
       "  code_module code_presentation  id_assessment assessment_type   date  weight\n",
       "0         AAA             2013J           1752             TMA   19.0    10.0\n",
       "1         AAA             2013J           1753             TMA   54.0    20.0\n",
       "2         AAA             2013J           1754             TMA  117.0    20.0\n",
       "3         AAA             2013J           1755             TMA  166.0    20.0\n",
       "4         AAA             2013J           1756             TMA  215.0    30.0"
      ]
     },
     "execution_count": 140,
     "metadata": {},
     "output_type": "execute_result"
    }
   ],
   "source": [
    "#Menampilkan 5 Data Teratas\n",
    "assessments.head()"
   ]
  },
  {
   "cell_type": "code",
   "execution_count": 141,
   "metadata": {},
   "outputs": [
    {
     "data": {
      "text/html": [
       "<div>\n",
       "<style scoped>\n",
       "    .dataframe tbody tr th:only-of-type {\n",
       "        vertical-align: middle;\n",
       "    }\n",
       "\n",
       "    .dataframe tbody tr th {\n",
       "        vertical-align: top;\n",
       "    }\n",
       "\n",
       "    .dataframe thead th {\n",
       "        text-align: right;\n",
       "    }\n",
       "</style>\n",
       "<table border=\"1\" class=\"dataframe\">\n",
       "  <thead>\n",
       "    <tr style=\"text-align: right;\">\n",
       "      <th></th>\n",
       "      <th>code_module</th>\n",
       "      <th>code_presentation</th>\n",
       "      <th>id_assessment</th>\n",
       "      <th>assessment_type</th>\n",
       "      <th>date</th>\n",
       "      <th>weight</th>\n",
       "    </tr>\n",
       "  </thead>\n",
       "  <tbody>\n",
       "    <tr>\n",
       "      <th>201</th>\n",
       "      <td>GGG</td>\n",
       "      <td>2014J</td>\n",
       "      <td>37443</td>\n",
       "      <td>CMA</td>\n",
       "      <td>229.0</td>\n",
       "      <td>0.0</td>\n",
       "    </tr>\n",
       "    <tr>\n",
       "      <th>202</th>\n",
       "      <td>GGG</td>\n",
       "      <td>2014J</td>\n",
       "      <td>37435</td>\n",
       "      <td>TMA</td>\n",
       "      <td>61.0</td>\n",
       "      <td>0.0</td>\n",
       "    </tr>\n",
       "    <tr>\n",
       "      <th>203</th>\n",
       "      <td>GGG</td>\n",
       "      <td>2014J</td>\n",
       "      <td>37436</td>\n",
       "      <td>TMA</td>\n",
       "      <td>124.0</td>\n",
       "      <td>0.0</td>\n",
       "    </tr>\n",
       "    <tr>\n",
       "      <th>204</th>\n",
       "      <td>GGG</td>\n",
       "      <td>2014J</td>\n",
       "      <td>37437</td>\n",
       "      <td>TMA</td>\n",
       "      <td>173.0</td>\n",
       "      <td>0.0</td>\n",
       "    </tr>\n",
       "    <tr>\n",
       "      <th>205</th>\n",
       "      <td>GGG</td>\n",
       "      <td>2014J</td>\n",
       "      <td>37444</td>\n",
       "      <td>Exam</td>\n",
       "      <td>229.0</td>\n",
       "      <td>100.0</td>\n",
       "    </tr>\n",
       "  </tbody>\n",
       "</table>\n",
       "</div>"
      ],
      "text/plain": [
       "    code_module code_presentation  id_assessment assessment_type   date   \n",
       "201         GGG             2014J          37443             CMA  229.0  \\\n",
       "202         GGG             2014J          37435             TMA   61.0   \n",
       "203         GGG             2014J          37436             TMA  124.0   \n",
       "204         GGG             2014J          37437             TMA  173.0   \n",
       "205         GGG             2014J          37444            Exam  229.0   \n",
       "\n",
       "     weight  \n",
       "201     0.0  \n",
       "202     0.0  \n",
       "203     0.0  \n",
       "204     0.0  \n",
       "205   100.0  "
      ]
     },
     "execution_count": 141,
     "metadata": {},
     "output_type": "execute_result"
    }
   ],
   "source": [
    "#Menampilkan 5 Data Terbawah\n",
    "assessments.tail()"
   ]
  },
  {
   "cell_type": "code",
   "execution_count": 142,
   "metadata": {},
   "outputs": [
    {
     "name": "stdout",
     "output_type": "stream",
     "text": [
      "<class 'pandas.core.frame.DataFrame'>\n",
      "RangeIndex: 206 entries, 0 to 205\n",
      "Data columns (total 6 columns):\n",
      " #   Column             Non-Null Count  Dtype  \n",
      "---  ------             --------------  -----  \n",
      " 0   code_module        206 non-null    object \n",
      " 1   code_presentation  206 non-null    object \n",
      " 2   id_assessment      206 non-null    int64  \n",
      " 3   assessment_type    206 non-null    object \n",
      " 4   date               195 non-null    float64\n",
      " 5   weight             206 non-null    float64\n",
      "dtypes: float64(2), int64(1), object(3)\n",
      "memory usage: 9.8+ KB\n"
     ]
    }
   ],
   "source": [
    "#Menampilkan Metadata assessments\n",
    "assessments.info()"
   ]
  },
  {
   "cell_type": "code",
   "execution_count": 143,
   "metadata": {},
   "outputs": [
    {
     "data": {
      "text/plain": [
       "(206, 6)"
      ]
     },
     "execution_count": 143,
     "metadata": {},
     "output_type": "execute_result"
    }
   ],
   "source": [
    "#Menampilkan Jumlah Row dan Column\n",
    "assessments.shape"
   ]
  },
  {
   "cell_type": "code",
   "execution_count": 144,
   "metadata": {},
   "outputs": [
    {
     "name": "stdout",
     "output_type": "stream",
     "text": [
      "number of duplicate rows:  (0, 6)\n"
     ]
    }
   ],
   "source": [
    "#Memeriksa Duplikasi\n",
    "duplicate_rows_assessments = assessments[assessments.duplicated()]\n",
    "print(\"number of duplicate rows: \", duplicate_rows_assessments.shape)"
   ]
  },
  {
   "cell_type": "code",
   "execution_count": 145,
   "metadata": {},
   "outputs": [
    {
     "name": "stdout",
     "output_type": "stream",
     "text": [
      "code_module           0\n",
      "code_presentation     0\n",
      "id_assessment         0\n",
      "assessment_type       0\n",
      "date                 11\n",
      "weight                0\n",
      "dtype: int64\n"
     ]
    }
   ],
   "source": [
    "#Memeriksa Missing Value\n",
    "print(assessments.isnull().sum())"
   ]
  },
  {
   "cell_type": "code",
   "execution_count": 146,
   "metadata": {},
   "outputs": [],
   "source": [
    "#Mengisi missing values \"date\" menggunakan mean\n",
    "assessments['date'] = assessments['date'].fillna(int(assessments['date'].astype(float).mean()))"
   ]
  },
  {
   "cell_type": "code",
   "execution_count": 147,
   "metadata": {},
   "outputs": [
    {
     "data": {
      "text/plain": [
       "array(['AAA', 'BBB', 'CCC', 'DDD', 'EEE', 'FFF', 'GGG'], dtype=object)"
      ]
     },
     "execution_count": 147,
     "metadata": {},
     "output_type": "execute_result"
    }
   ],
   "source": [
    "#Ada 7 tipe di code_module\n",
    "assessments['code_module'].unique()"
   ]
  },
  {
   "cell_type": "code",
   "execution_count": 148,
   "metadata": {},
   "outputs": [
    {
     "data": {
      "text/plain": [
       "array(['TMA', 'Exam', 'CMA'], dtype=object)"
      ]
     },
     "execution_count": 148,
     "metadata": {},
     "output_type": "execute_result"
    }
   ],
   "source": [
    "### Ada 3 tipe assessments\n",
    "# TMA :- Tutor Marked Assessment\n",
    "# CMA :- Computer Marked Assessment\n",
    "# Exam :- Final Exam\n",
    "\n",
    "assessments['assessment_type'].unique()"
   ]
  },
  {
   "cell_type": "code",
   "execution_count": 149,
   "metadata": {},
   "outputs": [
    {
     "data": {
      "text/plain": [
       "(array([29., 25., 22., 34., 20., 32., 44.]),\n",
       " array([ 12.        ,  47.57142857,  83.14285714, 118.71428571,\n",
       "        154.28571429, 189.85714286, 225.42857143, 261.        ]),\n",
       " <BarContainer object of 7 artists>)"
      ]
     },
     "execution_count": 149,
     "metadata": {},
     "output_type": "execute_result"
    },
    {
     "data": {
      "image/png": "[encoded data removed]",
      "text/plain": [
       "<Figure size 640x480 with 1 Axes>"
      ]
     },
     "metadata": {},
     "output_type": "display_data"
    }
   ],
   "source": [
    "#Histogram di bawah ini menunjukkan kepada kita kisaran angka selama berhari-hari untuk pengiriman akhir.\n",
    "\n",
    "plt.hist(assessments['date'].astype(int), bins=7)"
   ]
  },
  {
   "cell_type": "markdown",
   "metadata": {},
   "source": [
    "**COURSES**"
   ]
  },
  {
   "cell_type": "code",
   "execution_count": 150,
   "metadata": {},
   "outputs": [
    {
     "data": {
      "text/html": [
       "<div>\n",
       "<style scoped>\n",
       "    .dataframe tbody tr th:only-of-type {\n",
       "        vertical-align: middle;\n",
       "    }\n",
       "\n",
       "    .dataframe tbody tr th {\n",
       "        vertical-align: top;\n",
       "    }\n",
       "\n",
       "    .dataframe thead th {\n",
       "        text-align: right;\n",
       "    }\n",
       "</style>\n",
       "<table border=\"1\" class=\"dataframe\">\n",
       "  <thead>\n",
       "    <tr style=\"text-align: right;\">\n",
       "      <th></th>\n",
       "      <th>code_module</th>\n",
       "      <th>code_presentation</th>\n",
       "      <th>module_presentation_length</th>\n",
       "    </tr>\n",
       "  </thead>\n",
       "  <tbody>\n",
       "    <tr>\n",
       "      <th>0</th>\n",
       "      <td>AAA</td>\n",
       "      <td>2013J</td>\n",
       "      <td>268</td>\n",
       "    </tr>\n",
       "    <tr>\n",
       "      <th>1</th>\n",
       "      <td>AAA</td>\n",
       "      <td>2014J</td>\n",
       "      <td>269</td>\n",
       "    </tr>\n",
       "    <tr>\n",
       "      <th>2</th>\n",
       "      <td>BBB</td>\n",
       "      <td>2013J</td>\n",
       "      <td>268</td>\n",
       "    </tr>\n",
       "    <tr>\n",
       "      <th>3</th>\n",
       "      <td>BBB</td>\n",
       "      <td>2014J</td>\n",
       "      <td>262</td>\n",
       "    </tr>\n",
       "    <tr>\n",
       "      <th>4</th>\n",
       "      <td>BBB</td>\n",
       "      <td>2013B</td>\n",
       "      <td>240</td>\n",
       "    </tr>\n",
       "  </tbody>\n",
       "</table>\n",
       "</div>"
      ],
      "text/plain": [
       "  code_module code_presentation  module_presentation_length\n",
       "0         AAA             2013J                         268\n",
       "1         AAA             2014J                         269\n",
       "2         BBB             2013J                         268\n",
       "3         BBB             2014J                         262\n",
       "4         BBB             2013B                         240"
      ]
     },
     "execution_count": 150,
     "metadata": {},
     "output_type": "execute_result"
    }
   ],
   "source": [
    "#Menampilkan 5 Data Teratas\n",
    "courses.head()"
   ]
  },
  {
   "cell_type": "code",
   "execution_count": 151,
   "metadata": {},
   "outputs": [
    {
     "data": {
      "text/html": [
       "<div>\n",
       "<style scoped>\n",
       "    .dataframe tbody tr th:only-of-type {\n",
       "        vertical-align: middle;\n",
       "    }\n",
       "\n",
       "    .dataframe tbody tr th {\n",
       "        vertical-align: top;\n",
       "    }\n",
       "\n",
       "    .dataframe thead th {\n",
       "        text-align: right;\n",
       "    }\n",
       "</style>\n",
       "<table border=\"1\" class=\"dataframe\">\n",
       "  <thead>\n",
       "    <tr style=\"text-align: right;\">\n",
       "      <th></th>\n",
       "      <th>code_module</th>\n",
       "      <th>code_presentation</th>\n",
       "      <th>module_presentation_length</th>\n",
       "    </tr>\n",
       "  </thead>\n",
       "  <tbody>\n",
       "    <tr>\n",
       "      <th>17</th>\n",
       "      <td>FFF</td>\n",
       "      <td>2013B</td>\n",
       "      <td>240</td>\n",
       "    </tr>\n",
       "    <tr>\n",
       "      <th>18</th>\n",
       "      <td>FFF</td>\n",
       "      <td>2014B</td>\n",
       "      <td>241</td>\n",
       "    </tr>\n",
       "    <tr>\n",
       "      <th>19</th>\n",
       "      <td>GGG</td>\n",
       "      <td>2013J</td>\n",
       "      <td>261</td>\n",
       "    </tr>\n",
       "    <tr>\n",
       "      <th>20</th>\n",
       "      <td>GGG</td>\n",
       "      <td>2014J</td>\n",
       "      <td>269</td>\n",
       "    </tr>\n",
       "    <tr>\n",
       "      <th>21</th>\n",
       "      <td>GGG</td>\n",
       "      <td>2014B</td>\n",
       "      <td>241</td>\n",
       "    </tr>\n",
       "  </tbody>\n",
       "</table>\n",
       "</div>"
      ],
      "text/plain": [
       "   code_module code_presentation  module_presentation_length\n",
       "17         FFF             2013B                         240\n",
       "18         FFF             2014B                         241\n",
       "19         GGG             2013J                         261\n",
       "20         GGG             2014J                         269\n",
       "21         GGG             2014B                         241"
      ]
     },
     "execution_count": 151,
     "metadata": {},
     "output_type": "execute_result"
    }
   ],
   "source": [
    "#Menampilkan 5 Data Terbawah\n",
    "courses.tail()"
   ]
  },
  {
   "cell_type": "code",
   "execution_count": 152,
   "metadata": {},
   "outputs": [
    {
     "name": "stdout",
     "output_type": "stream",
     "text": [
      "<class 'pandas.core.frame.DataFrame'>\n",
      "RangeIndex: 22 entries, 0 to 21\n",
      "Data columns (total 3 columns):\n",
      " #   Column                      Non-Null Count  Dtype \n",
      "---  ------                      --------------  ----- \n",
      " 0   code_module                 22 non-null     object\n",
      " 1   code_presentation           22 non-null     object\n",
      " 2   module_presentation_length  22 non-null     int64 \n",
      "dtypes: int64(1), object(2)\n",
      "memory usage: 656.0+ bytes\n"
     ]
    }
   ],
   "source": [
    "#Menampilkan Metadata assessments\n",
    "courses.info()"
   ]
  },
  {
   "cell_type": "code",
   "execution_count": 153,
   "metadata": {},
   "outputs": [
    {
     "data": {
      "text/plain": [
       "(22, 3)"
      ]
     },
     "execution_count": 153,
     "metadata": {},
     "output_type": "execute_result"
    }
   ],
   "source": [
    "#Menampilkan Jumlah Row dan Column\n",
    "courses.shape"
   ]
  },
  {
   "cell_type": "code",
   "execution_count": 154,
   "metadata": {},
   "outputs": [
    {
     "name": "stdout",
     "output_type": "stream",
     "text": [
      "number of duplicate rows:  (0, 3)\n"
     ]
    }
   ],
   "source": [
    "#Memeriksa Duplikasi\n",
    "duplicate_rows_courses = courses[courses.duplicated()]\n",
    "print(\"number of duplicate rows: \", duplicate_rows_courses.shape)"
   ]
  },
  {
   "cell_type": "code",
   "execution_count": 155,
   "metadata": {},
   "outputs": [
    {
     "name": "stdout",
     "output_type": "stream",
     "text": [
      "code_module                   0\n",
      "code_presentation             0\n",
      "module_presentation_length    0\n",
      "dtype: int64\n"
     ]
    }
   ],
   "source": [
    "#Memeriksa Missing Value\n",
    "print(courses.isnull().sum())"
   ]
  },
  {
   "cell_type": "markdown",
   "metadata": {},
   "source": [
    "**STUDENT ASSESSMENTS**"
   ]
  },
  {
   "cell_type": "code",
   "execution_count": 156,
   "metadata": {},
   "outputs": [
    {
     "data": {
      "text/html": [
       "<div>\n",
       "<style scoped>\n",
       "    .dataframe tbody tr th:only-of-type {\n",
       "        vertical-align: middle;\n",
       "    }\n",
       "\n",
       "    .dataframe tbody tr th {\n",
       "        vertical-align: top;\n",
       "    }\n",
       "\n",
       "    .dataframe thead th {\n",
       "        text-align: right;\n",
       "    }\n",
       "</style>\n",
       "<table border=\"1\" class=\"dataframe\">\n",
       "  <thead>\n",
       "    <tr style=\"text-align: right;\">\n",
       "      <th></th>\n",
       "      <th>id_assessment</th>\n",
       "      <th>id_student</th>\n",
       "      <th>date_submitted</th>\n",
       "      <th>is_banked</th>\n",
       "      <th>score</th>\n",
       "    </tr>\n",
       "  </thead>\n",
       "  <tbody>\n",
       "    <tr>\n",
       "      <th>0</th>\n",
       "      <td>1752</td>\n",
       "      <td>11391</td>\n",
       "      <td>18</td>\n",
       "      <td>0</td>\n",
       "      <td>78.0</td>\n",
       "    </tr>\n",
       "    <tr>\n",
       "      <th>1</th>\n",
       "      <td>1752</td>\n",
       "      <td>28400</td>\n",
       "      <td>22</td>\n",
       "      <td>0</td>\n",
       "      <td>70.0</td>\n",
       "    </tr>\n",
       "    <tr>\n",
       "      <th>2</th>\n",
       "      <td>1752</td>\n",
       "      <td>31604</td>\n",
       "      <td>17</td>\n",
       "      <td>0</td>\n",
       "      <td>72.0</td>\n",
       "    </tr>\n",
       "    <tr>\n",
       "      <th>3</th>\n",
       "      <td>1752</td>\n",
       "      <td>32885</td>\n",
       "      <td>26</td>\n",
       "      <td>0</td>\n",
       "      <td>69.0</td>\n",
       "    </tr>\n",
       "    <tr>\n",
       "      <th>4</th>\n",
       "      <td>1752</td>\n",
       "      <td>38053</td>\n",
       "      <td>19</td>\n",
       "      <td>0</td>\n",
       "      <td>79.0</td>\n",
       "    </tr>\n",
       "  </tbody>\n",
       "</table>\n",
       "</div>"
      ],
      "text/plain": [
       "   id_assessment  id_student  date_submitted  is_banked  score\n",
       "0           1752       11391              18          0   78.0\n",
       "1           1752       28400              22          0   70.0\n",
       "2           1752       31604              17          0   72.0\n",
       "3           1752       32885              26          0   69.0\n",
       "4           1752       38053              19          0   79.0"
      ]
     },
     "execution_count": 156,
     "metadata": {},
     "output_type": "execute_result"
    }
   ],
   "source": [
    "#Menampilkan 5 Data Teratas\n",
    "studentAssessment.head()"
   ]
  },
  {
   "cell_type": "code",
   "execution_count": 157,
   "metadata": {},
   "outputs": [
    {
     "data": {
      "text/html": [
       "<div>\n",
       "<style scoped>\n",
       "    .dataframe tbody tr th:only-of-type {\n",
       "        vertical-align: middle;\n",
       "    }\n",
       "\n",
       "    .dataframe tbody tr th {\n",
       "        vertical-align: top;\n",
       "    }\n",
       "\n",
       "    .dataframe thead th {\n",
       "        text-align: right;\n",
       "    }\n",
       "</style>\n",
       "<table border=\"1\" class=\"dataframe\">\n",
       "  <thead>\n",
       "    <tr style=\"text-align: right;\">\n",
       "      <th></th>\n",
       "      <th>id_assessment</th>\n",
       "      <th>id_student</th>\n",
       "      <th>date_submitted</th>\n",
       "      <th>is_banked</th>\n",
       "      <th>score</th>\n",
       "    </tr>\n",
       "  </thead>\n",
       "  <tbody>\n",
       "    <tr>\n",
       "      <th>173907</th>\n",
       "      <td>37443</td>\n",
       "      <td>527538</td>\n",
       "      <td>227</td>\n",
       "      <td>0</td>\n",
       "      <td>60.0</td>\n",
       "    </tr>\n",
       "    <tr>\n",
       "      <th>173908</th>\n",
       "      <td>37443</td>\n",
       "      <td>534672</td>\n",
       "      <td>229</td>\n",
       "      <td>0</td>\n",
       "      <td>100.0</td>\n",
       "    </tr>\n",
       "    <tr>\n",
       "      <th>173909</th>\n",
       "      <td>37443</td>\n",
       "      <td>546286</td>\n",
       "      <td>215</td>\n",
       "      <td>0</td>\n",
       "      <td>80.0</td>\n",
       "    </tr>\n",
       "    <tr>\n",
       "      <th>173910</th>\n",
       "      <td>37443</td>\n",
       "      <td>546724</td>\n",
       "      <td>230</td>\n",
       "      <td>0</td>\n",
       "      <td>100.0</td>\n",
       "    </tr>\n",
       "    <tr>\n",
       "      <th>173911</th>\n",
       "      <td>37443</td>\n",
       "      <td>558486</td>\n",
       "      <td>224</td>\n",
       "      <td>0</td>\n",
       "      <td>80.0</td>\n",
       "    </tr>\n",
       "  </tbody>\n",
       "</table>\n",
       "</div>"
      ],
      "text/plain": [
       "        id_assessment  id_student  date_submitted  is_banked  score\n",
       "173907          37443      527538             227          0   60.0\n",
       "173908          37443      534672             229          0  100.0\n",
       "173909          37443      546286             215          0   80.0\n",
       "173910          37443      546724             230          0  100.0\n",
       "173911          37443      558486             224          0   80.0"
      ]
     },
     "execution_count": 157,
     "metadata": {},
     "output_type": "execute_result"
    }
   ],
   "source": [
    "#Menampilkan 5 Data Terbawah\n",
    "studentAssessment.tail()"
   ]
  },
  {
   "cell_type": "code",
   "execution_count": 158,
   "metadata": {},
   "outputs": [
    {
     "name": "stdout",
     "output_type": "stream",
     "text": [
      "<class 'pandas.core.frame.DataFrame'>\n",
      "RangeIndex: 173912 entries, 0 to 173911\n",
      "Data columns (total 5 columns):\n",
      " #   Column          Non-Null Count   Dtype  \n",
      "---  ------          --------------   -----  \n",
      " 0   id_assessment   173912 non-null  int64  \n",
      " 1   id_student      173912 non-null  int64  \n",
      " 2   date_submitted  173912 non-null  int64  \n",
      " 3   is_banked       173912 non-null  int64  \n",
      " 4   score           173739 non-null  float64\n",
      "dtypes: float64(1), int64(4)\n",
      "memory usage: 6.6 MB\n"
     ]
    }
   ],
   "source": [
    "#Menampilkan Metadata assessments\n",
    "studentAssessment.info()"
   ]
  },
  {
   "cell_type": "code",
   "execution_count": 159,
   "metadata": {},
   "outputs": [
    {
     "data": {
      "text/plain": [
       "(173912, 5)"
      ]
     },
     "execution_count": 159,
     "metadata": {},
     "output_type": "execute_result"
    }
   ],
   "source": [
    "#Menampilkan Jumlah Row dan Column\n",
    "studentAssessment.shape"
   ]
  },
  {
   "cell_type": "code",
   "execution_count": 160,
   "metadata": {},
   "outputs": [
    {
     "name": "stdout",
     "output_type": "stream",
     "text": [
      "number of duplicate rows:  (0, 5)\n"
     ]
    }
   ],
   "source": [
    "#Memeriksa Duplikasi\n",
    "duplicate_rows_studentAssessment = studentAssessment[studentAssessment.duplicated()]\n",
    "print(\"number of duplicate rows: \", duplicate_rows_studentAssessment.shape)"
   ]
  },
  {
   "cell_type": "code",
   "execution_count": 161,
   "metadata": {},
   "outputs": [
    {
     "name": "stdout",
     "output_type": "stream",
     "text": [
      "id_assessment       0\n",
      "id_student          0\n",
      "date_submitted      0\n",
      "is_banked           0\n",
      "score             173\n",
      "dtype: int64\n"
     ]
    }
   ],
   "source": [
    "#Memeriksa Missing Value\n",
    "print(studentAssessment.isnull().sum())"
   ]
  },
  {
   "cell_type": "markdown",
   "metadata": {},
   "source": [
    "**STUDENT INFO**"
   ]
  },
  {
   "cell_type": "code",
   "execution_count": 162,
   "metadata": {},
   "outputs": [
    {
     "data": {
      "text/html": [
       "<div>\n",
       "<style scoped>\n",
       "    .dataframe tbody tr th:only-of-type {\n",
       "        vertical-align: middle;\n",
       "    }\n",
       "\n",
       "    .dataframe tbody tr th {\n",
       "        vertical-align: top;\n",
       "    }\n",
       "\n",
       "    .dataframe thead th {\n",
       "        text-align: right;\n",
       "    }\n",
       "</style>\n",
       "<table border=\"1\" class=\"dataframe\">\n",
       "  <thead>\n",
       "    <tr style=\"text-align: right;\">\n",
       "      <th></th>\n",
       "      <th>code_module</th>\n",
       "      <th>code_presentation</th>\n",
       "      <th>id_student</th>\n",
       "      <th>gender</th>\n",
       "      <th>region</th>\n",
       "      <th>highest_education</th>\n",
       "      <th>imd_band</th>\n",
       "      <th>age_band</th>\n",
       "      <th>num_of_prev_attempts</th>\n",
       "      <th>studied_credits</th>\n",
       "      <th>disability</th>\n",
       "      <th>final_result</th>\n",
       "    </tr>\n",
       "  </thead>\n",
       "  <tbody>\n",
       "    <tr>\n",
       "      <th>0</th>\n",
       "      <td>AAA</td>\n",
       "      <td>2013J</td>\n",
       "      <td>11391</td>\n",
       "      <td>M</td>\n",
       "      <td>East Anglian Region</td>\n",
       "      <td>HE Qualification</td>\n",
       "      <td>90-100%</td>\n",
       "      <td>55&lt;=</td>\n",
       "      <td>0</td>\n",
       "      <td>240</td>\n",
       "      <td>N</td>\n",
       "      <td>Pass</td>\n",
       "    </tr>\n",
       "    <tr>\n",
       "      <th>1</th>\n",
       "      <td>AAA</td>\n",
       "      <td>2013J</td>\n",
       "      <td>28400</td>\n",
       "      <td>F</td>\n",
       "      <td>Scotland</td>\n",
       "      <td>HE Qualification</td>\n",
       "      <td>20-30%</td>\n",
       "      <td>35-55</td>\n",
       "      <td>0</td>\n",
       "      <td>60</td>\n",
       "      <td>N</td>\n",
       "      <td>Pass</td>\n",
       "    </tr>\n",
       "    <tr>\n",
       "      <th>2</th>\n",
       "      <td>AAA</td>\n",
       "      <td>2013J</td>\n",
       "      <td>30268</td>\n",
       "      <td>F</td>\n",
       "      <td>North Western Region</td>\n",
       "      <td>A Level or Equivalent</td>\n",
       "      <td>30-40%</td>\n",
       "      <td>35-55</td>\n",
       "      <td>0</td>\n",
       "      <td>60</td>\n",
       "      <td>Y</td>\n",
       "      <td>Withdrawn</td>\n",
       "    </tr>\n",
       "    <tr>\n",
       "      <th>3</th>\n",
       "      <td>AAA</td>\n",
       "      <td>2013J</td>\n",
       "      <td>31604</td>\n",
       "      <td>F</td>\n",
       "      <td>South East Region</td>\n",
       "      <td>A Level or Equivalent</td>\n",
       "      <td>50-60%</td>\n",
       "      <td>35-55</td>\n",
       "      <td>0</td>\n",
       "      <td>60</td>\n",
       "      <td>N</td>\n",
       "      <td>Pass</td>\n",
       "    </tr>\n",
       "    <tr>\n",
       "      <th>4</th>\n",
       "      <td>AAA</td>\n",
       "      <td>2013J</td>\n",
       "      <td>32885</td>\n",
       "      <td>F</td>\n",
       "      <td>West Midlands Region</td>\n",
       "      <td>Lower Than A Level</td>\n",
       "      <td>50-60%</td>\n",
       "      <td>0-35</td>\n",
       "      <td>0</td>\n",
       "      <td>60</td>\n",
       "      <td>N</td>\n",
       "      <td>Pass</td>\n",
       "    </tr>\n",
       "  </tbody>\n",
       "</table>\n",
       "</div>"
      ],
      "text/plain": [
       "  code_module code_presentation  id_student gender                region   \n",
       "0         AAA             2013J       11391      M   East Anglian Region  \\\n",
       "1         AAA             2013J       28400      F              Scotland   \n",
       "2         AAA             2013J       30268      F  North Western Region   \n",
       "3         AAA             2013J       31604      F     South East Region   \n",
       "4         AAA             2013J       32885      F  West Midlands Region   \n",
       "\n",
       "       highest_education imd_band age_band  num_of_prev_attempts   \n",
       "0       HE Qualification  90-100%     55<=                     0  \\\n",
       "1       HE Qualification   20-30%    35-55                     0   \n",
       "2  A Level or Equivalent   30-40%    35-55                     0   \n",
       "3  A Level or Equivalent   50-60%    35-55                     0   \n",
       "4     Lower Than A Level   50-60%     0-35                     0   \n",
       "\n",
       "   studied_credits disability final_result  \n",
       "0              240          N         Pass  \n",
       "1               60          N         Pass  \n",
       "2               60          Y    Withdrawn  \n",
       "3               60          N         Pass  \n",
       "4               60          N         Pass  "
      ]
     },
     "execution_count": 162,
     "metadata": {},
     "output_type": "execute_result"
    }
   ],
   "source": [
    "#Menampilkan 5 Data Teratas\n",
    "studentInfo.head()"
   ]
  },
  {
   "cell_type": "code",
   "execution_count": 163,
   "metadata": {},
   "outputs": [
    {
     "data": {
      "text/html": [
       "<div>\n",
       "<style scoped>\n",
       "    .dataframe tbody tr th:only-of-type {\n",
       "        vertical-align: middle;\n",
       "    }\n",
       "\n",
       "    .dataframe tbody tr th {\n",
       "        vertical-align: top;\n",
       "    }\n",
       "\n",
       "    .dataframe thead th {\n",
       "        text-align: right;\n",
       "    }\n",
       "</style>\n",
       "<table border=\"1\" class=\"dataframe\">\n",
       "  <thead>\n",
       "    <tr style=\"text-align: right;\">\n",
       "      <th></th>\n",
       "      <th>code_module</th>\n",
       "      <th>code_presentation</th>\n",
       "      <th>id_student</th>\n",
       "      <th>gender</th>\n",
       "      <th>region</th>\n",
       "      <th>highest_education</th>\n",
       "      <th>imd_band</th>\n",
       "      <th>age_band</th>\n",
       "      <th>num_of_prev_attempts</th>\n",
       "      <th>studied_credits</th>\n",
       "      <th>disability</th>\n",
       "      <th>final_result</th>\n",
       "    </tr>\n",
       "  </thead>\n",
       "  <tbody>\n",
       "    <tr>\n",
       "      <th>32588</th>\n",
       "      <td>GGG</td>\n",
       "      <td>2014J</td>\n",
       "      <td>2640965</td>\n",
       "      <td>F</td>\n",
       "      <td>Wales</td>\n",
       "      <td>Lower Than A Level</td>\n",
       "      <td>10-20</td>\n",
       "      <td>0-35</td>\n",
       "      <td>0</td>\n",
       "      <td>30</td>\n",
       "      <td>N</td>\n",
       "      <td>Fail</td>\n",
       "    </tr>\n",
       "    <tr>\n",
       "      <th>32589</th>\n",
       "      <td>GGG</td>\n",
       "      <td>2014J</td>\n",
       "      <td>2645731</td>\n",
       "      <td>F</td>\n",
       "      <td>East Anglian Region</td>\n",
       "      <td>Lower Than A Level</td>\n",
       "      <td>40-50%</td>\n",
       "      <td>35-55</td>\n",
       "      <td>0</td>\n",
       "      <td>30</td>\n",
       "      <td>N</td>\n",
       "      <td>Distinction</td>\n",
       "    </tr>\n",
       "    <tr>\n",
       "      <th>32590</th>\n",
       "      <td>GGG</td>\n",
       "      <td>2014J</td>\n",
       "      <td>2648187</td>\n",
       "      <td>F</td>\n",
       "      <td>South Region</td>\n",
       "      <td>A Level or Equivalent</td>\n",
       "      <td>20-30%</td>\n",
       "      <td>0-35</td>\n",
       "      <td>0</td>\n",
       "      <td>30</td>\n",
       "      <td>Y</td>\n",
       "      <td>Pass</td>\n",
       "    </tr>\n",
       "    <tr>\n",
       "      <th>32591</th>\n",
       "      <td>GGG</td>\n",
       "      <td>2014J</td>\n",
       "      <td>2679821</td>\n",
       "      <td>F</td>\n",
       "      <td>South East Region</td>\n",
       "      <td>Lower Than A Level</td>\n",
       "      <td>90-100%</td>\n",
       "      <td>35-55</td>\n",
       "      <td>0</td>\n",
       "      <td>30</td>\n",
       "      <td>N</td>\n",
       "      <td>Withdrawn</td>\n",
       "    </tr>\n",
       "    <tr>\n",
       "      <th>32592</th>\n",
       "      <td>GGG</td>\n",
       "      <td>2014J</td>\n",
       "      <td>2684003</td>\n",
       "      <td>F</td>\n",
       "      <td>Yorkshire Region</td>\n",
       "      <td>HE Qualification</td>\n",
       "      <td>50-60%</td>\n",
       "      <td>35-55</td>\n",
       "      <td>0</td>\n",
       "      <td>30</td>\n",
       "      <td>N</td>\n",
       "      <td>Distinction</td>\n",
       "    </tr>\n",
       "  </tbody>\n",
       "</table>\n",
       "</div>"
      ],
      "text/plain": [
       "      code_module code_presentation  id_student gender               region   \n",
       "32588         GGG             2014J     2640965      F                Wales  \\\n",
       "32589         GGG             2014J     2645731      F  East Anglian Region   \n",
       "32590         GGG             2014J     2648187      F         South Region   \n",
       "32591         GGG             2014J     2679821      F    South East Region   \n",
       "32592         GGG             2014J     2684003      F     Yorkshire Region   \n",
       "\n",
       "           highest_education imd_band age_band  num_of_prev_attempts   \n",
       "32588     Lower Than A Level    10-20     0-35                     0  \\\n",
       "32589     Lower Than A Level   40-50%    35-55                     0   \n",
       "32590  A Level or Equivalent   20-30%     0-35                     0   \n",
       "32591     Lower Than A Level  90-100%    35-55                     0   \n",
       "32592       HE Qualification   50-60%    35-55                     0   \n",
       "\n",
       "       studied_credits disability final_result  \n",
       "32588               30          N         Fail  \n",
       "32589               30          N  Distinction  \n",
       "32590               30          Y         Pass  \n",
       "32591               30          N    Withdrawn  \n",
       "32592               30          N  Distinction  "
      ]
     },
     "execution_count": 163,
     "metadata": {},
     "output_type": "execute_result"
    }
   ],
   "source": [
    "#Menampilkan 5 Data Terbawah\n",
    "studentInfo.tail()"
   ]
  },
  {
   "cell_type": "code",
   "execution_count": 164,
   "metadata": {},
   "outputs": [
    {
     "name": "stdout",
     "output_type": "stream",
     "text": [
      "<class 'pandas.core.frame.DataFrame'>\n",
      "RangeIndex: 32593 entries, 0 to 32592\n",
      "Data columns (total 12 columns):\n",
      " #   Column                Non-Null Count  Dtype \n",
      "---  ------                --------------  ----- \n",
      " 0   code_module           32593 non-null  object\n",
      " 1   code_presentation     32593 non-null  object\n",
      " 2   id_student            32593 non-null  int64 \n",
      " 3   gender                32593 non-null  object\n",
      " 4   region                32593 non-null  object\n",
      " 5   highest_education     32593 non-null  object\n",
      " 6   imd_band              31482 non-null  object\n",
      " 7   age_band              32593 non-null  object\n",
      " 8   num_of_prev_attempts  32593 non-null  int64 \n",
      " 9   studied_credits       32593 non-null  int64 \n",
      " 10  disability            32593 non-null  object\n",
      " 11  final_result          32593 non-null  object\n",
      "dtypes: int64(3), object(9)\n",
      "memory usage: 3.0+ MB\n"
     ]
    }
   ],
   "source": [
    "#Menampilkan Metadata assessments\n",
    "studentInfo.info()"
   ]
  },
  {
   "cell_type": "code",
   "execution_count": 165,
   "metadata": {},
   "outputs": [
    {
     "data": {
      "text/plain": [
       "code_module             32593\n",
       "code_presentation       32593\n",
       "id_student              32593\n",
       "gender                  32593\n",
       "region                  32593\n",
       "highest_education       32593\n",
       "imd_band                31482\n",
       "age_band                32593\n",
       "num_of_prev_attempts    32593\n",
       "studied_credits         32593\n",
       "disability              32593\n",
       "final_result            32593\n",
       "dtype: int64"
      ]
     },
     "execution_count": 165,
     "metadata": {},
     "output_type": "execute_result"
    }
   ],
   "source": [
    "#Menampilkan Jumlah Data di Tiap Fitur\n",
    "studentInfo.count()"
   ]
  },
  {
   "cell_type": "code",
   "execution_count": 166,
   "metadata": {},
   "outputs": [
    {
     "name": "stdout",
     "output_type": "stream",
     "text": [
      "number of duplicate rows:  (0, 12)\n"
     ]
    }
   ],
   "source": [
    "##Memeriksa Duplikasi\n",
    "duplicate_rows_studentInfo = studentInfo[studentInfo.duplicated()]\n",
    "print(\"number of duplicate rows: \", duplicate_rows_studentInfo.shape)"
   ]
  },
  {
   "cell_type": "code",
   "execution_count": 167,
   "metadata": {},
   "outputs": [
    {
     "name": "stdout",
     "output_type": "stream",
     "text": [
      "code_module                0\n",
      "code_presentation          0\n",
      "id_student                 0\n",
      "gender                     0\n",
      "region                     0\n",
      "highest_education          0\n",
      "imd_band                1111\n",
      "age_band                   0\n",
      "num_of_prev_attempts       0\n",
      "studied_credits            0\n",
      "disability                 0\n",
      "final_result               0\n",
      "dtype: int64\n"
     ]
    }
   ],
   "source": [
    "#Memeriksa Missing Value\n",
    "print(studentInfo.isnull().sum())"
   ]
  },
  {
   "cell_type": "code",
   "execution_count": 168,
   "metadata": {},
   "outputs": [
    {
     "name": "stdout",
     "output_type": "stream",
     "text": [
      "['90-100%' '20-30%' '30-40%' '50-60%' '80-90%' '70-80%' nan '60-70%'\n",
      " '40-50%' '10-20' '0-10%']\n"
     ]
    }
   ],
   "source": [
    "### Ada nilai yang hilang di imd_band. Karena mereka mewakili band di mana mereka berada, kita dapat memikirkan mereka \n",
    "### seperti kategori dan kita dapat mengisi nilai yang hilang dengan mode\n",
    "\n",
    "print(studentInfo['imd_band'].unique())\n",
    "\n",
    "studentInfo['imd_band'] = studentInfo['imd_band'].fillna(studentInfo['imd_band'].mode()[0])"
   ]
  },
  {
   "cell_type": "code",
   "execution_count": 169,
   "metadata": {},
   "outputs": [
    {
     "name": "stdout",
     "output_type": "stream",
     "text": [
      "code_module             0\n",
      "code_presentation       0\n",
      "id_student              0\n",
      "gender                  0\n",
      "region                  0\n",
      "highest_education       0\n",
      "imd_band                0\n",
      "age_band                0\n",
      "num_of_prev_attempts    0\n",
      "studied_credits         0\n",
      "disability              0\n",
      "final_result            0\n",
      "dtype: int64\n"
     ]
    }
   ],
   "source": [
    "#Memeriksa Missing Value\n",
    "print(studentInfo.isnull().sum())"
   ]
  },
  {
   "cell_type": "markdown",
   "metadata": {},
   "source": [
    "**STUDENT REGISTRATION**"
   ]
  },
  {
   "cell_type": "code",
   "execution_count": 170,
   "metadata": {},
   "outputs": [
    {
     "data": {
      "text/html": [
       "<div>\n",
       "<style scoped>\n",
       "    .dataframe tbody tr th:only-of-type {\n",
       "        vertical-align: middle;\n",
       "    }\n",
       "\n",
       "    .dataframe tbody tr th {\n",
       "        vertical-align: top;\n",
       "    }\n",
       "\n",
       "    .dataframe thead th {\n",
       "        text-align: right;\n",
       "    }\n",
       "</style>\n",
       "<table border=\"1\" class=\"dataframe\">\n",
       "  <thead>\n",
       "    <tr style=\"text-align: right;\">\n",
       "      <th></th>\n",
       "      <th>code_module</th>\n",
       "      <th>code_presentation</th>\n",
       "      <th>id_student</th>\n",
       "      <th>date_registration</th>\n",
       "      <th>date_unregistration</th>\n",
       "    </tr>\n",
       "  </thead>\n",
       "  <tbody>\n",
       "    <tr>\n",
       "      <th>0</th>\n",
       "      <td>AAA</td>\n",
       "      <td>2013J</td>\n",
       "      <td>11391</td>\n",
       "      <td>-159.0</td>\n",
       "      <td>NaN</td>\n",
       "    </tr>\n",
       "    <tr>\n",
       "      <th>1</th>\n",
       "      <td>AAA</td>\n",
       "      <td>2013J</td>\n",
       "      <td>28400</td>\n",
       "      <td>-53.0</td>\n",
       "      <td>NaN</td>\n",
       "    </tr>\n",
       "    <tr>\n",
       "      <th>2</th>\n",
       "      <td>AAA</td>\n",
       "      <td>2013J</td>\n",
       "      <td>30268</td>\n",
       "      <td>-92.0</td>\n",
       "      <td>12.0</td>\n",
       "    </tr>\n",
       "    <tr>\n",
       "      <th>3</th>\n",
       "      <td>AAA</td>\n",
       "      <td>2013J</td>\n",
       "      <td>31604</td>\n",
       "      <td>-52.0</td>\n",
       "      <td>NaN</td>\n",
       "    </tr>\n",
       "    <tr>\n",
       "      <th>4</th>\n",
       "      <td>AAA</td>\n",
       "      <td>2013J</td>\n",
       "      <td>32885</td>\n",
       "      <td>-176.0</td>\n",
       "      <td>NaN</td>\n",
       "    </tr>\n",
       "  </tbody>\n",
       "</table>\n",
       "</div>"
      ],
      "text/plain": [
       "  code_module code_presentation  id_student  date_registration   \n",
       "0         AAA             2013J       11391             -159.0  \\\n",
       "1         AAA             2013J       28400              -53.0   \n",
       "2         AAA             2013J       30268              -92.0   \n",
       "3         AAA             2013J       31604              -52.0   \n",
       "4         AAA             2013J       32885             -176.0   \n",
       "\n",
       "   date_unregistration  \n",
       "0                  NaN  \n",
       "1                  NaN  \n",
       "2                 12.0  \n",
       "3                  NaN  \n",
       "4                  NaN  "
      ]
     },
     "execution_count": 170,
     "metadata": {},
     "output_type": "execute_result"
    }
   ],
   "source": [
    "#Menampilkan 5 Data Teratas\n",
    "studentRegistration.head()"
   ]
  },
  {
   "cell_type": "code",
   "execution_count": 171,
   "metadata": {},
   "outputs": [
    {
     "data": {
      "text/html": [
       "<div>\n",
       "<style scoped>\n",
       "    .dataframe tbody tr th:only-of-type {\n",
       "        vertical-align: middle;\n",
       "    }\n",
       "\n",
       "    .dataframe tbody tr th {\n",
       "        vertical-align: top;\n",
       "    }\n",
       "\n",
       "    .dataframe thead th {\n",
       "        text-align: right;\n",
       "    }\n",
       "</style>\n",
       "<table border=\"1\" class=\"dataframe\">\n",
       "  <thead>\n",
       "    <tr style=\"text-align: right;\">\n",
       "      <th></th>\n",
       "      <th>code_module</th>\n",
       "      <th>code_presentation</th>\n",
       "      <th>id_student</th>\n",
       "      <th>date_registration</th>\n",
       "      <th>date_unregistration</th>\n",
       "    </tr>\n",
       "  </thead>\n",
       "  <tbody>\n",
       "    <tr>\n",
       "      <th>32588</th>\n",
       "      <td>GGG</td>\n",
       "      <td>2014J</td>\n",
       "      <td>2640965</td>\n",
       "      <td>-4.0</td>\n",
       "      <td>NaN</td>\n",
       "    </tr>\n",
       "    <tr>\n",
       "      <th>32589</th>\n",
       "      <td>GGG</td>\n",
       "      <td>2014J</td>\n",
       "      <td>2645731</td>\n",
       "      <td>-23.0</td>\n",
       "      <td>NaN</td>\n",
       "    </tr>\n",
       "    <tr>\n",
       "      <th>32590</th>\n",
       "      <td>GGG</td>\n",
       "      <td>2014J</td>\n",
       "      <td>2648187</td>\n",
       "      <td>-129.0</td>\n",
       "      <td>NaN</td>\n",
       "    </tr>\n",
       "    <tr>\n",
       "      <th>32591</th>\n",
       "      <td>GGG</td>\n",
       "      <td>2014J</td>\n",
       "      <td>2679821</td>\n",
       "      <td>-49.0</td>\n",
       "      <td>101.0</td>\n",
       "    </tr>\n",
       "    <tr>\n",
       "      <th>32592</th>\n",
       "      <td>GGG</td>\n",
       "      <td>2014J</td>\n",
       "      <td>2684003</td>\n",
       "      <td>-28.0</td>\n",
       "      <td>NaN</td>\n",
       "    </tr>\n",
       "  </tbody>\n",
       "</table>\n",
       "</div>"
      ],
      "text/plain": [
       "      code_module code_presentation  id_student  date_registration   \n",
       "32588         GGG             2014J     2640965               -4.0  \\\n",
       "32589         GGG             2014J     2645731              -23.0   \n",
       "32590         GGG             2014J     2648187             -129.0   \n",
       "32591         GGG             2014J     2679821              -49.0   \n",
       "32592         GGG             2014J     2684003              -28.0   \n",
       "\n",
       "       date_unregistration  \n",
       "32588                  NaN  \n",
       "32589                  NaN  \n",
       "32590                  NaN  \n",
       "32591                101.0  \n",
       "32592                  NaN  "
      ]
     },
     "execution_count": 171,
     "metadata": {},
     "output_type": "execute_result"
    }
   ],
   "source": [
    "#Menampilkan 5 Data Terbawah\n",
    "studentRegistration.tail()"
   ]
  },
  {
   "cell_type": "code",
   "execution_count": 172,
   "metadata": {},
   "outputs": [
    {
     "name": "stdout",
     "output_type": "stream",
     "text": [
      "<class 'pandas.core.frame.DataFrame'>\n",
      "RangeIndex: 32593 entries, 0 to 32592\n",
      "Data columns (total 5 columns):\n",
      " #   Column               Non-Null Count  Dtype  \n",
      "---  ------               --------------  -----  \n",
      " 0   code_module          32593 non-null  object \n",
      " 1   code_presentation    32593 non-null  object \n",
      " 2   id_student           32593 non-null  int64  \n",
      " 3   date_registration    32548 non-null  float64\n",
      " 4   date_unregistration  10072 non-null  float64\n",
      "dtypes: float64(2), int64(1), object(2)\n",
      "memory usage: 1.2+ MB\n"
     ]
    }
   ],
   "source": [
    "#Menampilkan Metadata assessments\n",
    "studentRegistration.info()"
   ]
  },
  {
   "cell_type": "code",
   "execution_count": 173,
   "metadata": {},
   "outputs": [
    {
     "data": {
      "text/plain": [
       "code_module            32593\n",
       "code_presentation      32593\n",
       "id_student             32593\n",
       "date_registration      32548\n",
       "date_unregistration    10072\n",
       "dtype: int64"
      ]
     },
     "execution_count": 173,
     "metadata": {},
     "output_type": "execute_result"
    }
   ],
   "source": [
    "#Menampilkan Jumlah Data di Tiap Fitur\n",
    "studentRegistration.count()"
   ]
  },
  {
   "cell_type": "code",
   "execution_count": 174,
   "metadata": {},
   "outputs": [
    {
     "name": "stdout",
     "output_type": "stream",
     "text": [
      "number of duplicate rows:  (0, 5)\n"
     ]
    }
   ],
   "source": [
    "##Memeriksa Duplikasi\n",
    "duplicate_rows_studentRegistration = studentRegistration[studentRegistration.duplicated()]\n",
    "print(\"number of duplicate rows: \", duplicate_rows_studentRegistration.shape)"
   ]
  },
  {
   "cell_type": "code",
   "execution_count": 175,
   "metadata": {},
   "outputs": [
    {
     "name": "stdout",
     "output_type": "stream",
     "text": [
      "code_module                0\n",
      "code_presentation          0\n",
      "id_student                 0\n",
      "date_registration         45\n",
      "date_unregistration    22521\n",
      "dtype: int64\n"
     ]
    }
   ],
   "source": [
    "#Memeriksa Missing Value\n",
    "print(studentRegistration.isnull().sum())"
   ]
  },
  {
   "cell_type": "code",
   "execution_count": 176,
   "metadata": {},
   "outputs": [],
   "source": [
    "## Dari uraian tersebut jelas bahwa jika nilai hilang di kolom date_unregistration maka itu berarti siswa\n",
    "## menyelesaikan kursus dan jika batal maka siswa ditarik dari kursus\n",
    "\n",
    "## 0 : 'SELESAI'\n",
    "## 1: 'DITARIK'\n",
    "\n",
    "## Ada sangat sedikit nilai yang hilang di kolom data_registration. Saya menggantinya dengan 0 \n",
    "\n",
    "studentRegistration['date_unregistration'] = ['0' if pd.isnull(days) else '1' for days in studentRegistration['date_unregistration']]\n",
    "studentRegistration['date_registration']   = studentRegistration['date_registration'].fillna(0).astype(float).apply(abs)"
   ]
  },
  {
   "cell_type": "code",
   "execution_count": 177,
   "metadata": {},
   "outputs": [
    {
     "name": "stdout",
     "output_type": "stream",
     "text": [
      "code_module            0\n",
      "code_presentation      0\n",
      "id_student             0\n",
      "date_registration      0\n",
      "date_unregistration    0\n",
      "dtype: int64\n"
     ]
    }
   ],
   "source": [
    "#Memeriksa Missing Value\n",
    "print(studentRegistration.isnull().sum())"
   ]
  },
  {
   "cell_type": "markdown",
   "metadata": {},
   "source": [
    "**STUDENT VLE**"
   ]
  },
  {
   "cell_type": "code",
   "execution_count": 178,
   "metadata": {},
   "outputs": [
    {
     "data": {
      "text/html": [
       "<div>\n",
       "<style scoped>\n",
       "    .dataframe tbody tr th:only-of-type {\n",
       "        vertical-align: middle;\n",
       "    }\n",
       "\n",
       "    .dataframe tbody tr th {\n",
       "        vertical-align: top;\n",
       "    }\n",
       "\n",
       "    .dataframe thead th {\n",
       "        text-align: right;\n",
       "    }\n",
       "</style>\n",
       "<table border=\"1\" class=\"dataframe\">\n",
       "  <thead>\n",
       "    <tr style=\"text-align: right;\">\n",
       "      <th></th>\n",
       "      <th>code_module</th>\n",
       "      <th>code_presentation</th>\n",
       "      <th>id_student</th>\n",
       "      <th>id_site</th>\n",
       "      <th>date</th>\n",
       "      <th>sum_click</th>\n",
       "    </tr>\n",
       "  </thead>\n",
       "  <tbody>\n",
       "    <tr>\n",
       "      <th>0</th>\n",
       "      <td>AAA</td>\n",
       "      <td>2013J</td>\n",
       "      <td>28400</td>\n",
       "      <td>546652</td>\n",
       "      <td>-10</td>\n",
       "      <td>4</td>\n",
       "    </tr>\n",
       "    <tr>\n",
       "      <th>1</th>\n",
       "      <td>AAA</td>\n",
       "      <td>2013J</td>\n",
       "      <td>28400</td>\n",
       "      <td>546652</td>\n",
       "      <td>-10</td>\n",
       "      <td>1</td>\n",
       "    </tr>\n",
       "    <tr>\n",
       "      <th>2</th>\n",
       "      <td>AAA</td>\n",
       "      <td>2013J</td>\n",
       "      <td>28400</td>\n",
       "      <td>546652</td>\n",
       "      <td>-10</td>\n",
       "      <td>1</td>\n",
       "    </tr>\n",
       "    <tr>\n",
       "      <th>3</th>\n",
       "      <td>AAA</td>\n",
       "      <td>2013J</td>\n",
       "      <td>28400</td>\n",
       "      <td>546614</td>\n",
       "      <td>-10</td>\n",
       "      <td>11</td>\n",
       "    </tr>\n",
       "    <tr>\n",
       "      <th>4</th>\n",
       "      <td>AAA</td>\n",
       "      <td>2013J</td>\n",
       "      <td>28400</td>\n",
       "      <td>546714</td>\n",
       "      <td>-10</td>\n",
       "      <td>1</td>\n",
       "    </tr>\n",
       "  </tbody>\n",
       "</table>\n",
       "</div>"
      ],
      "text/plain": [
       "  code_module code_presentation  id_student  id_site  date  sum_click\n",
       "0         AAA             2013J       28400   546652   -10          4\n",
       "1         AAA             2013J       28400   546652   -10          1\n",
       "2         AAA             2013J       28400   546652   -10          1\n",
       "3         AAA             2013J       28400   546614   -10         11\n",
       "4         AAA             2013J       28400   546714   -10          1"
      ]
     },
     "execution_count": 178,
     "metadata": {},
     "output_type": "execute_result"
    }
   ],
   "source": [
    "#Menampilkan 5 Data Teratas\n",
    "studentVle.head()"
   ]
  },
  {
   "cell_type": "code",
   "execution_count": 179,
   "metadata": {},
   "outputs": [
    {
     "data": {
      "text/html": [
       "<div>\n",
       "<style scoped>\n",
       "    .dataframe tbody tr th:only-of-type {\n",
       "        vertical-align: middle;\n",
       "    }\n",
       "\n",
       "    .dataframe tbody tr th {\n",
       "        vertical-align: top;\n",
       "    }\n",
       "\n",
       "    .dataframe thead th {\n",
       "        text-align: right;\n",
       "    }\n",
       "</style>\n",
       "<table border=\"1\" class=\"dataframe\">\n",
       "  <thead>\n",
       "    <tr style=\"text-align: right;\">\n",
       "      <th></th>\n",
       "      <th>code_module</th>\n",
       "      <th>code_presentation</th>\n",
       "      <th>id_student</th>\n",
       "      <th>id_site</th>\n",
       "      <th>date</th>\n",
       "      <th>sum_click</th>\n",
       "    </tr>\n",
       "  </thead>\n",
       "  <tbody>\n",
       "    <tr>\n",
       "      <th>10655275</th>\n",
       "      <td>GGG</td>\n",
       "      <td>2014J</td>\n",
       "      <td>675811</td>\n",
       "      <td>896943</td>\n",
       "      <td>269</td>\n",
       "      <td>3</td>\n",
       "    </tr>\n",
       "    <tr>\n",
       "      <th>10655276</th>\n",
       "      <td>GGG</td>\n",
       "      <td>2014J</td>\n",
       "      <td>675578</td>\n",
       "      <td>896943</td>\n",
       "      <td>269</td>\n",
       "      <td>1</td>\n",
       "    </tr>\n",
       "    <tr>\n",
       "      <th>10655277</th>\n",
       "      <td>GGG</td>\n",
       "      <td>2014J</td>\n",
       "      <td>654064</td>\n",
       "      <td>896943</td>\n",
       "      <td>269</td>\n",
       "      <td>3</td>\n",
       "    </tr>\n",
       "    <tr>\n",
       "      <th>10655278</th>\n",
       "      <td>GGG</td>\n",
       "      <td>2014J</td>\n",
       "      <td>654064</td>\n",
       "      <td>896939</td>\n",
       "      <td>269</td>\n",
       "      <td>1</td>\n",
       "    </tr>\n",
       "    <tr>\n",
       "      <th>10655279</th>\n",
       "      <td>GGG</td>\n",
       "      <td>2014J</td>\n",
       "      <td>654064</td>\n",
       "      <td>896939</td>\n",
       "      <td>269</td>\n",
       "      <td>1</td>\n",
       "    </tr>\n",
       "  </tbody>\n",
       "</table>\n",
       "</div>"
      ],
      "text/plain": [
       "         code_module code_presentation  id_student  id_site  date  sum_click\n",
       "10655275         GGG             2014J      675811   896943   269          3\n",
       "10655276         GGG             2014J      675578   896943   269          1\n",
       "10655277         GGG             2014J      654064   896943   269          3\n",
       "10655278         GGG             2014J      654064   896939   269          1\n",
       "10655279         GGG             2014J      654064   896939   269          1"
      ]
     },
     "execution_count": 179,
     "metadata": {},
     "output_type": "execute_result"
    }
   ],
   "source": [
    "#Menampilkan 5 Data Terbawah\n",
    "studentVle.tail()"
   ]
  },
  {
   "cell_type": "code",
   "execution_count": 180,
   "metadata": {},
   "outputs": [
    {
     "name": "stdout",
     "output_type": "stream",
     "text": [
      "<class 'pandas.core.frame.DataFrame'>\n",
      "RangeIndex: 10655280 entries, 0 to 10655279\n",
      "Data columns (total 6 columns):\n",
      " #   Column             Dtype \n",
      "---  ------             ----- \n",
      " 0   code_module        object\n",
      " 1   code_presentation  object\n",
      " 2   id_student         int64 \n",
      " 3   id_site            int64 \n",
      " 4   date               int64 \n",
      " 5   sum_click          int64 \n",
      "dtypes: int64(4), object(2)\n",
      "memory usage: 487.8+ MB\n"
     ]
    }
   ],
   "source": [
    "#Menampilkan Metadata assessments\n",
    "studentVle.info()"
   ]
  },
  {
   "cell_type": "code",
   "execution_count": 181,
   "metadata": {},
   "outputs": [
    {
     "data": {
      "text/plain": [
       "code_module          10655280\n",
       "code_presentation    10655280\n",
       "id_student           10655280\n",
       "id_site              10655280\n",
       "date                 10655280\n",
       "sum_click            10655280\n",
       "dtype: int64"
      ]
     },
     "execution_count": 181,
     "metadata": {},
     "output_type": "execute_result"
    }
   ],
   "source": [
    "#Menampilkan Jumlah Data di Tiap Fitur\n",
    "studentVle.count()"
   ]
  },
  {
   "cell_type": "code",
   "execution_count": 182,
   "metadata": {},
   "outputs": [
    {
     "name": "stdout",
     "output_type": "stream",
     "text": [
      "number of duplicate rows:  (787170, 6)\n"
     ]
    }
   ],
   "source": [
    "##Memeriksa Duplikasi\n",
    "duplicate_rows_studentVle = studentVle[studentVle.duplicated()]\n",
    "print(\"number of duplicate rows: \", duplicate_rows_studentVle.shape)"
   ]
  },
  {
   "cell_type": "code",
   "execution_count": 183,
   "metadata": {},
   "outputs": [
    {
     "name": "stdout",
     "output_type": "stream",
     "text": [
      "code_module          0\n",
      "code_presentation    0\n",
      "id_student           0\n",
      "id_site              0\n",
      "date                 0\n",
      "sum_click            0\n",
      "dtype: int64\n"
     ]
    }
   ],
   "source": [
    "#Memeriksa Missing Value\n",
    "print(studentVle.isnull().sum())"
   ]
  },
  {
   "cell_type": "markdown",
   "metadata": {},
   "source": [
    "**VLE**"
   ]
  },
  {
   "cell_type": "code",
   "execution_count": 184,
   "metadata": {},
   "outputs": [
    {
     "data": {
      "text/html": [
       "<div>\n",
       "<style scoped>\n",
       "    .dataframe tbody tr th:only-of-type {\n",
       "        vertical-align: middle;\n",
       "    }\n",
       "\n",
       "    .dataframe tbody tr th {\n",
       "        vertical-align: top;\n",
       "    }\n",
       "\n",
       "    .dataframe thead th {\n",
       "        text-align: right;\n",
       "    }\n",
       "</style>\n",
       "<table border=\"1\" class=\"dataframe\">\n",
       "  <thead>\n",
       "    <tr style=\"text-align: right;\">\n",
       "      <th></th>\n",
       "      <th>id_site</th>\n",
       "      <th>code_module</th>\n",
       "      <th>code_presentation</th>\n",
       "      <th>activity_type</th>\n",
       "      <th>week_from</th>\n",
       "      <th>week_to</th>\n",
       "    </tr>\n",
       "  </thead>\n",
       "  <tbody>\n",
       "    <tr>\n",
       "      <th>0</th>\n",
       "      <td>546943</td>\n",
       "      <td>AAA</td>\n",
       "      <td>2013J</td>\n",
       "      <td>resource</td>\n",
       "      <td>NaN</td>\n",
       "      <td>NaN</td>\n",
       "    </tr>\n",
       "    <tr>\n",
       "      <th>1</th>\n",
       "      <td>546712</td>\n",
       "      <td>AAA</td>\n",
       "      <td>2013J</td>\n",
       "      <td>oucontent</td>\n",
       "      <td>NaN</td>\n",
       "      <td>NaN</td>\n",
       "    </tr>\n",
       "    <tr>\n",
       "      <th>2</th>\n",
       "      <td>546998</td>\n",
       "      <td>AAA</td>\n",
       "      <td>2013J</td>\n",
       "      <td>resource</td>\n",
       "      <td>NaN</td>\n",
       "      <td>NaN</td>\n",
       "    </tr>\n",
       "    <tr>\n",
       "      <th>3</th>\n",
       "      <td>546888</td>\n",
       "      <td>AAA</td>\n",
       "      <td>2013J</td>\n",
       "      <td>url</td>\n",
       "      <td>NaN</td>\n",
       "      <td>NaN</td>\n",
       "    </tr>\n",
       "    <tr>\n",
       "      <th>4</th>\n",
       "      <td>547035</td>\n",
       "      <td>AAA</td>\n",
       "      <td>2013J</td>\n",
       "      <td>resource</td>\n",
       "      <td>NaN</td>\n",
       "      <td>NaN</td>\n",
       "    </tr>\n",
       "  </tbody>\n",
       "</table>\n",
       "</div>"
      ],
      "text/plain": [
       "   id_site code_module code_presentation activity_type  week_from  week_to\n",
       "0   546943         AAA             2013J      resource        NaN      NaN\n",
       "1   546712         AAA             2013J     oucontent        NaN      NaN\n",
       "2   546998         AAA             2013J      resource        NaN      NaN\n",
       "3   546888         AAA             2013J           url        NaN      NaN\n",
       "4   547035         AAA             2013J      resource        NaN      NaN"
      ]
     },
     "execution_count": 184,
     "metadata": {},
     "output_type": "execute_result"
    }
   ],
   "source": [
    "#Menampilkan 5 Data Teratas\n",
    "vle.head()"
   ]
  },
  {
   "cell_type": "code",
   "execution_count": 185,
   "metadata": {},
   "outputs": [
    {
     "data": {
      "text/html": [
       "<div>\n",
       "<style scoped>\n",
       "    .dataframe tbody tr th:only-of-type {\n",
       "        vertical-align: middle;\n",
       "    }\n",
       "\n",
       "    .dataframe tbody tr th {\n",
       "        vertical-align: top;\n",
       "    }\n",
       "\n",
       "    .dataframe thead th {\n",
       "        text-align: right;\n",
       "    }\n",
       "</style>\n",
       "<table border=\"1\" class=\"dataframe\">\n",
       "  <thead>\n",
       "    <tr style=\"text-align: right;\">\n",
       "      <th></th>\n",
       "      <th>id_site</th>\n",
       "      <th>code_module</th>\n",
       "      <th>code_presentation</th>\n",
       "      <th>activity_type</th>\n",
       "      <th>week_from</th>\n",
       "      <th>week_to</th>\n",
       "    </tr>\n",
       "  </thead>\n",
       "  <tbody>\n",
       "    <tr>\n",
       "      <th>6359</th>\n",
       "      <td>897063</td>\n",
       "      <td>GGG</td>\n",
       "      <td>2014J</td>\n",
       "      <td>resource</td>\n",
       "      <td>NaN</td>\n",
       "      <td>NaN</td>\n",
       "    </tr>\n",
       "    <tr>\n",
       "      <th>6360</th>\n",
       "      <td>897109</td>\n",
       "      <td>GGG</td>\n",
       "      <td>2014J</td>\n",
       "      <td>resource</td>\n",
       "      <td>NaN</td>\n",
       "      <td>NaN</td>\n",
       "    </tr>\n",
       "    <tr>\n",
       "      <th>6361</th>\n",
       "      <td>896965</td>\n",
       "      <td>GGG</td>\n",
       "      <td>2014J</td>\n",
       "      <td>oucontent</td>\n",
       "      <td>NaN</td>\n",
       "      <td>NaN</td>\n",
       "    </tr>\n",
       "    <tr>\n",
       "      <th>6362</th>\n",
       "      <td>897060</td>\n",
       "      <td>GGG</td>\n",
       "      <td>2014J</td>\n",
       "      <td>resource</td>\n",
       "      <td>NaN</td>\n",
       "      <td>NaN</td>\n",
       "    </tr>\n",
       "    <tr>\n",
       "      <th>6363</th>\n",
       "      <td>897100</td>\n",
       "      <td>GGG</td>\n",
       "      <td>2014J</td>\n",
       "      <td>resource</td>\n",
       "      <td>NaN</td>\n",
       "      <td>NaN</td>\n",
       "    </tr>\n",
       "  </tbody>\n",
       "</table>\n",
       "</div>"
      ],
      "text/plain": [
       "      id_site code_module code_presentation activity_type  week_from  week_to\n",
       "6359   897063         GGG             2014J      resource        NaN      NaN\n",
       "6360   897109         GGG             2014J      resource        NaN      NaN\n",
       "6361   896965         GGG             2014J     oucontent        NaN      NaN\n",
       "6362   897060         GGG             2014J      resource        NaN      NaN\n",
       "6363   897100         GGG             2014J      resource        NaN      NaN"
      ]
     },
     "execution_count": 185,
     "metadata": {},
     "output_type": "execute_result"
    }
   ],
   "source": [
    "#Menampilkan 5 Data Terbawah\n",
    "vle.tail()"
   ]
  },
  {
   "cell_type": "code",
   "execution_count": 186,
   "metadata": {},
   "outputs": [
    {
     "data": {
      "text/plain": [
       "(6364, 6)"
      ]
     },
     "execution_count": 186,
     "metadata": {},
     "output_type": "execute_result"
    }
   ],
   "source": [
    "#Menampilkan Jumlah Row dan Column\n",
    "vle.shape"
   ]
  },
  {
   "cell_type": "code",
   "execution_count": 187,
   "metadata": {},
   "outputs": [
    {
     "name": "stdout",
     "output_type": "stream",
     "text": [
      "number of duplicate rows:  (0, 6)\n"
     ]
    }
   ],
   "source": [
    "#Memeriksa Apakah Ada Data Yang Duplikat\n",
    "duplicate_rows_vle = vle[vle.duplicated()]\n",
    "print(\"number of duplicate rows: \", duplicate_rows_vle.shape)"
   ]
  },
  {
   "cell_type": "code",
   "execution_count": 188,
   "metadata": {},
   "outputs": [
    {
     "data": {
      "text/plain": [
       "id_site              6364\n",
       "code_module          6364\n",
       "code_presentation    6364\n",
       "activity_type        6364\n",
       "week_from            1121\n",
       "week_to              1121\n",
       "dtype: int64"
      ]
     },
     "execution_count": 188,
     "metadata": {},
     "output_type": "execute_result"
    }
   ],
   "source": [
    "#Menampilkan Jumlah Data di Tiap Fitur\n",
    "vle.count()"
   ]
  },
  {
   "cell_type": "code",
   "execution_count": 189,
   "metadata": {},
   "outputs": [
    {
     "name": "stdout",
     "output_type": "stream",
     "text": [
      "id_site                 0\n",
      "code_module             0\n",
      "code_presentation       0\n",
      "activity_type           0\n",
      "week_from            5243\n",
      "week_to              5243\n",
      "dtype: int64\n"
     ]
    }
   ],
   "source": [
    "#Memeriksa Missing Value\n",
    "print(vle.isnull().sum())"
   ]
  },
  {
   "cell_type": "code",
   "execution_count": 190,
   "metadata": {},
   "outputs": [],
   "source": [
    "### Seperti yang dapat kita lihat bahwa ada hampir 80% nilai yang hilang di kolom week_from dan week_to\n",
    "### Jadi saya akan menghapus kolom-kolom itu\n",
    "\n",
    "vle = vle.drop(['week_from', 'week_to'], axis = 1)"
   ]
  },
  {
   "cell_type": "code",
   "execution_count": 191,
   "metadata": {},
   "outputs": [
    {
     "name": "stdout",
     "output_type": "stream",
     "text": [
      "id_site              0\n",
      "code_module          0\n",
      "code_presentation    0\n",
      "activity_type        0\n",
      "dtype: int64\n"
     ]
    }
   ],
   "source": [
    "#Memeriksa Missing Value\n",
    "print(vle.isnull().sum())"
   ]
  },
  {
   "cell_type": "code",
   "execution_count": 192,
   "metadata": {},
   "outputs": [
    {
     "data": {
      "text/html": [
       "<div>\n",
       "<style scoped>\n",
       "    .dataframe tbody tr th:only-of-type {\n",
       "        vertical-align: middle;\n",
       "    }\n",
       "\n",
       "    .dataframe tbody tr th {\n",
       "        vertical-align: top;\n",
       "    }\n",
       "\n",
       "    .dataframe thead th {\n",
       "        text-align: right;\n",
       "    }\n",
       "</style>\n",
       "<table border=\"1\" class=\"dataframe\">\n",
       "  <thead>\n",
       "    <tr style=\"text-align: right;\">\n",
       "      <th></th>\n",
       "      <th>id_site</th>\n",
       "      <th>code_module</th>\n",
       "      <th>code_presentation</th>\n",
       "      <th>activity_type</th>\n",
       "    </tr>\n",
       "  </thead>\n",
       "  <tbody>\n",
       "    <tr>\n",
       "      <th>0</th>\n",
       "      <td>546943</td>\n",
       "      <td>AAA</td>\n",
       "      <td>2013J</td>\n",
       "      <td>resource</td>\n",
       "    </tr>\n",
       "    <tr>\n",
       "      <th>1</th>\n",
       "      <td>546712</td>\n",
       "      <td>AAA</td>\n",
       "      <td>2013J</td>\n",
       "      <td>oucontent</td>\n",
       "    </tr>\n",
       "    <tr>\n",
       "      <th>2</th>\n",
       "      <td>546998</td>\n",
       "      <td>AAA</td>\n",
       "      <td>2013J</td>\n",
       "      <td>resource</td>\n",
       "    </tr>\n",
       "    <tr>\n",
       "      <th>3</th>\n",
       "      <td>546888</td>\n",
       "      <td>AAA</td>\n",
       "      <td>2013J</td>\n",
       "      <td>url</td>\n",
       "    </tr>\n",
       "    <tr>\n",
       "      <th>4</th>\n",
       "      <td>547035</td>\n",
       "      <td>AAA</td>\n",
       "      <td>2013J</td>\n",
       "      <td>resource</td>\n",
       "    </tr>\n",
       "  </tbody>\n",
       "</table>\n",
       "</div>"
      ],
      "text/plain": [
       "   id_site code_module code_presentation activity_type\n",
       "0   546943         AAA             2013J      resource\n",
       "1   546712         AAA             2013J     oucontent\n",
       "2   546998         AAA             2013J      resource\n",
       "3   546888         AAA             2013J           url\n",
       "4   547035         AAA             2013J      resource"
      ]
     },
     "execution_count": 192,
     "metadata": {},
     "output_type": "execute_result"
    }
   ],
   "source": [
    "#Menampilkan Kembali 5 Data Teratas\n",
    "vle.head()"
   ]
  },
  {
   "cell_type": "code",
   "execution_count": 193,
   "metadata": {},
   "outputs": [
    {
     "data": {
      "text/html": [
       "<div>\n",
       "<style scoped>\n",
       "    .dataframe tbody tr th:only-of-type {\n",
       "        vertical-align: middle;\n",
       "    }\n",
       "\n",
       "    .dataframe tbody tr th {\n",
       "        vertical-align: top;\n",
       "    }\n",
       "\n",
       "    .dataframe thead th {\n",
       "        text-align: right;\n",
       "    }\n",
       "</style>\n",
       "<table border=\"1\" class=\"dataframe\">\n",
       "  <thead>\n",
       "    <tr style=\"text-align: right;\">\n",
       "      <th></th>\n",
       "      <th>id_site</th>\n",
       "    </tr>\n",
       "  </thead>\n",
       "  <tbody>\n",
       "    <tr>\n",
       "      <th>count</th>\n",
       "      <td>6.364000e+03</td>\n",
       "    </tr>\n",
       "    <tr>\n",
       "      <th>mean</th>\n",
       "      <td>7.260991e+05</td>\n",
       "    </tr>\n",
       "    <tr>\n",
       "      <th>std</th>\n",
       "      <td>1.283151e+05</td>\n",
       "    </tr>\n",
       "    <tr>\n",
       "      <th>min</th>\n",
       "      <td>5.267210e+05</td>\n",
       "    </tr>\n",
       "    <tr>\n",
       "      <th>25%</th>\n",
       "      <td>6.615928e+05</td>\n",
       "    </tr>\n",
       "    <tr>\n",
       "      <th>50%</th>\n",
       "      <td>7.300965e+05</td>\n",
       "    </tr>\n",
       "    <tr>\n",
       "      <th>75%</th>\n",
       "      <td>8.140162e+05</td>\n",
       "    </tr>\n",
       "    <tr>\n",
       "      <th>max</th>\n",
       "      <td>1.077905e+06</td>\n",
       "    </tr>\n",
       "  </tbody>\n",
       "</table>\n",
       "</div>"
      ],
      "text/plain": [
       "            id_site\n",
       "count  6.364000e+03\n",
       "mean   7.260991e+05\n",
       "std    1.283151e+05\n",
       "min    5.267210e+05\n",
       "25%    6.615928e+05\n",
       "50%    7.300965e+05\n",
       "75%    8.140162e+05\n",
       "max    1.077905e+06"
      ]
     },
     "execution_count": 193,
     "metadata": {},
     "output_type": "execute_result"
    }
   ],
   "source": [
    "vle.describe()"
   ]
  },
  {
   "cell_type": "code",
   "execution_count": 194,
   "metadata": {},
   "outputs": [
    {
     "data": {
      "text/plain": [
       "<Axes: >"
      ]
     },
     "execution_count": 194,
     "metadata": {},
     "output_type": "execute_result"
    },
    {
     "data": {
      "image/png": "[encoded data removed]",
      "text/plain": [
       "<Figure size 600x300 with 3 Axes>"
      ]
     },
     "metadata": {},
     "output_type": "display_data"
    }
   ],
   "source": [
    "msno.bar(vle,figsize=(6,3),color='blue')"
   ]
  },
  {
   "cell_type": "code",
   "execution_count": 195,
   "metadata": {},
   "outputs": [
    {
     "data": {
      "text/plain": [
       "<seaborn.axisgrid.PairGrid at 0x227c0fe35e0>"
      ]
     },
     "execution_count": 195,
     "metadata": {},
     "output_type": "execute_result"
    },
    {
     "data": {
      "image/png": "[encoded data removed]",
      "text/plain": [
       "<Figure size 250x250 with 2 Axes>"
      ]
     },
     "metadata": {},
     "output_type": "display_data"
    }
   ],
   "source": [
    "sns.pairplot(vle)"
   ]
  }
 ],
 "metadata": {
  "kernelspec": {
   "display_name": "Python 3",
   "language": "python",
   "name": "python3"
  },
  "language_info": {
   "codemirror_mode": {
    "name": "ipython",
    "version": 3
   },
   "file_extension": ".py",
   "mimetype": "text/x-python",
   "name": "python",
   "nbconvert_exporter": "python",
   "pygments_lexer": "ipython3",
   "version": "3.10.7"
  },
  "orig_nbformat": 4
 },
 "nbformat": 4,
 "nbformat_minor": 2
}
